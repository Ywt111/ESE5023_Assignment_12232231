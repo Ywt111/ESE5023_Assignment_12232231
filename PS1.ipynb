{
 "cells": [
  {
   "cell_type": "code",
   "execution_count": 11,
   "id": "e00baf81-f808-4d41-b2ec-db2bf2b497b0",
   "metadata": {},
   "outputs": [
    {
     "name": "stdin",
     "output_type": "stream",
     "text": [
      "Please input a number of a:  10\n",
      "Please input another number of b:  5\n",
      "Please input another number of c:  2\n"
     ]
    },
    {
     "name": "stdout",
     "output_type": "stream",
     "text": [
      "10,5,2\n",
      "x+y-10z=-5\n"
     ]
    }
   ],
   "source": [
    "#Assignment 01-1.Flowchart\n",
    "#Define a function\n",
    "def Print_values():\n",
    "    #Input a b c \n",
    "    a=input(\"Please input a number of a: \")\n",
    "    b=input(\"Please input another number of b: \")\n",
    "    c=input(\"Please input another number of c: \")\n",
    "    if int(a)>int(b):\n",
    "        if int(b)>int(c):\n",
    "            i=int(a)+int(b)-10*int(c)\n",
    "            print(a+\",\"+b+\",\"+c)\n",
    "        else:\n",
    "            if int(a)>int(c):\n",
    "                i=int(a)+int(c)-10*int(b)\n",
    "                print(a+\",\"+c+\",\"+b)\n",
    "            else:\n",
    "                i=int(c)+int(a)-10*int(b)\n",
    "                print(c+\",\"+a+\",\"+b)\n",
    "    else: \n",
    "        if int(b)>int(c):\n",
    "            print(\"nothing\")\n",
    "        else:\n",
    "            i=int(c)+int(b)-10*int(a)\n",
    "            print(c+\",\"+b+\",\"+a)\n",
    "    print(\"x+y-10z=\"+str(i))\n",
    "Print_values()"
   ]
  },
  {
   "cell_type": "code",
   "execution_count": 12,
   "id": "b5a2f174-ec7e-4d6e-bccd-bea290088114",
   "metadata": {},
   "outputs": [
    {
     "name": "stdin",
     "output_type": "stream",
     "text": [
      "please input a list of N positive integers, the numbers are separated by commas: 1,2,3,4,5,6,21\n"
     ]
    },
    {
     "name": "stdout",
     "output_type": "stream",
     "text": [
      "[1, 2, 3, 4, 5, 6, 21]\n",
      "1,5,7,13,15,17,63,"
     ]
    }
   ],
   "source": [
    "# Assignment 01-2. Continuous celing function\n",
    "#用input传入多个值并储存到一个list\n",
    "#参考https://blog.csdn.net/qq_45261963/article/details/107971245\n",
    "from math import *\n",
    "x=input(\"please input a list of N positive integers, the numbers are separated by commas:\")\n",
    "x_list=x.split(\",\")  #以“,”为分隔符分隔\n",
    "x_list=[int(x_list[i]) for i in range(len(x_list))] #将x_list转变为整数类型\n",
    "print(x_list)\n",
    "def F_ceil(X):\n",
    "    if X==1:\n",
    "        return 1  #return思路来自焦小乔同学\n",
    "    else:\n",
    "        return F_ceil(ceil(X/3))+2*X\n",
    "for n in x_list:\n",
    "    print(str(F_ceil(n))+\",\",end=\"\")"
   ]
  },
  {
   "cell_type": "code",
   "execution_count": 13,
   "id": "1dbda9c7-e081-4d67-86ea-990257bc7615",
   "metadata": {},
   "outputs": [
    {
     "name": "stdout",
     "output_type": "stream",
     "text": [
      "10\n",
      "1\n",
      "0\n"
     ]
    }
   ],
   "source": [
    "#Assignment 01-3. Dice rolling-3.1\n",
    "def Find_number_of_ways(N,X):\n",
    "    #总和小于骰子数或大于骰子数*6，不可能\n",
    "    if X<N or X>6*N:\n",
    "        return 0\n",
    "    #一个骰子，总和在1~6之间，一种情况\n",
    "    elif N==1:\n",
    "        return 1\n",
    "    #迭代求和\n",
    "    else:\n",
    "        return Find_number_of_ways(N-1,X-1)+Find_number_of_ways(N-1,X-2)+Find_number_of_ways(N-1,X-3)+Find_number_of_ways(N-1,X-4)+Find_number_of_ways(N-1,X-5)+Find_number_of_ways(N-1,X-6)\n",
    "print(Find_number_of_ways(10,11))\n",
    "print(Find_number_of_ways(10,10))\n",
    "print(Find_number_of_ways(10,61)) \n",
    "#迭代思路来自焦小乔同学与https://www.geeksforgeeks.org/dice-throw-dp-30/"
   ]
  },
  {
   "cell_type": "code",
   "execution_count": 14,
   "id": "bb8427ff-fab0-4bd6-956e-e420f9921f54",
   "metadata": {},
   "outputs": [
    {
     "name": "stdout",
     "output_type": "stream",
     "text": [
      "[1, 10, 55, 220, 715, 2002, 4995, 11340, 23760, 46420, 85228, 147940, 243925, 383470, 576565, 831204, 1151370, 1535040, 1972630, 2446300, 2930455, 3393610, 3801535, 4121260, 4325310, 4395456, 4325310, 4121260, 3801535, 3393610, 2930455, 2446300, 1972630, 1535040, 1151370, 831204, 576565, 383470, 243925, 147940, 85228, 46420, 23760, 11340, 4995, 2002, 715, 220, 55, 10, 1]\n",
      "4395456\n",
      "35\n"
     ]
    }
   ],
   "source": [
    "#Assignment 01-3. Dice rolling-3.2\n",
    "#给定一个空的list\n",
    "Number_of_ways=[]\n",
    "for i in range(10,61):\n",
    "        Number_of_ways.append(Find_number_of_ways(10,i))\n",
    "print(Number_of_ways)\n",
    "#找出总和在10~60之间对应的最大方法数\n",
    "M=max(Number_of_ways)\n",
    "print(M)\n",
    "#返回最大方法数对应的总和X\n",
    "d_M=Number_of_ways.index(max(Number_of_ways))\n",
    "print(int(d_M)+10)"
   ]
  },
  {
   "cell_type": "code",
   "execution_count": 15,
   "id": "b526b419-919f-46a5-8857-ad6c0a481023",
   "metadata": {},
   "outputs": [
    {
     "data": {
      "text/plain": [
       "array([7, 6, 7, 5])"
      ]
     },
     "execution_count": 15,
     "metadata": {},
     "output_type": "execute_result"
    }
   ],
   "source": [
    "#Assignment 01-4. Dynamic programming-4.1\n",
    "import numpy as np\n",
    "def Random_integer(N):\n",
    "    arr1=np.random.randint(0,11,int(N))\n",
    "    return arr1\n",
    "Random_integer(4)"
   ]
  },
  {
   "cell_type": "code",
   "execution_count": 17,
   "id": "f3ece3ca-ab06-47c3-a47b-93a0f40bd083",
   "metadata": {},
   "outputs": [
    {
     "name": "stdin",
     "output_type": "stream",
     "text": [
      "please input a number representing the number of elements,n: 5\n"
     ]
    },
    {
     "name": "stdout",
     "output_type": "stream",
     "text": [
      "[ 8  7  8  6 10]\n"
     ]
    },
    {
     "data": {
      "text/plain": [
       "241.8"
      ]
     },
     "execution_count": 17,
     "metadata": {},
     "output_type": "execute_result"
    }
   ],
   "source": [
    "#Assignment 01-4. Dynamic programming-4.2\n",
    "#利用Random_integer函数给定一个含有n个元素的在0~10之间的随机整数数组\n",
    "import math\n",
    "n=input(\"please input a number representing the number of elements,n:\") \n",
    "arr2=Random_integer(n)\n",
    "print(arr2)\n",
    "#定义Sum_averages函数\n",
    "def Sum_averages(n):\n",
    "    #先把最大子集的平均和所有最小子集（除空集）的平均相加\n",
    "    S=np.mean(arr2)+arr2.sum()\n",
    "    #再算其他子集的平均\n",
    "    for i in range(1,int(n)-1):\n",
    "        S+=(math.factorial(int(n)-1)/math.factorial(i)/math.factorial(int(n)-1-i))*arr2.sum()/(i+1)\n",
    "    return S\n",
    "Sum_averages(n)\n",
    "#解题思路来自https://www.geeksforgeeks.org/sum-average-subsets/\n",
    "#举例解释：arr= [a0,a1, a2, a3]，sum of average = a0/1 + a1/1 + a2/1 + a3/1 +(a0+a1)/2 + (a0+a2)/2 + (a0+a3)/2 + (a1+a2)/2 +(a1+a3)/2 + (a2+a3)/2 + (a0+a1+a2)/3 + (a0+a2+a3)/3 + (a0+a1+a3)/3 + (a1+a2+a3)/3 +(a0+a1+a2+a3)/4\n",
    "#接上条注释：A = (a0+a1+a2+a3), then above expression can be rearranged as below,sum of average = (A)/1 + (3*A)/2 + (3*A)/3 + (A)/4 排列组合"
   ]
  },
  {
   "cell_type": "code",
   "execution_count": 18,
   "id": "213951eb-877d-47c8-93b4-39aacb0080b4",
   "metadata": {},
   "outputs": [
    {
     "name": "stdout",
     "output_type": "stream",
     "text": [
      "[46.8, 46.8, 85.8, 144.3, 241.8, 410.8, 709.8, 1246.05, 2217.8, 3993.6, 7261.8, 13313.3, 24577.8, 45643.37142857143, 85199.40000000001, 159746.925, 300697.8, 567982.1333333333, 1076173.8, 2044727.1, 3894714.942857143, 7435361.345454546, 14224165.8, 27262980.55, 52344918.6, 100663300.8, 193870056.46666667, 373892247.3, 721998817.8, 1395864376.3999999, 2701672981.8, 5234491397.362499, 10151740886.89091, 19706320540.094116, 38286565615.62858, 74446099802.96666, 144868086097.80002, 282111536079.85266, 549755813893.8, 1072023837087.4501, 2091753828457.8, 4083900331745.3716, 7977851810845.8, 15593073993920.209, 30493122476993.8, 59660457020199.5, 116782171188469.8, 228698418577414.16, 448062207825132.06, 878201927337253.0, 1721964563406372.5, 3377699720527878.5, 6627939074243378.0, 1.301039892351478e+16, 2.5547692431629004e+16, 5.0182967276414104e+16, 9.860512868348035e+16, 1.9381008051580614e+17, 3.810503277937884e+17, 7.493989779944506e+17, 1.4742274976940006e+18, 2.900899269655936e+18, 5.709706499005335e+18, 1.1240984669916758e+19, 2.2136092888451457e+19, 4.360139508331349e+19, 8.590125598503551e+19, 1.6927600444109937e+20, 3.336454580288336e+20, 6.57758188685415e+20, 1.29698797768955e+21, 2.557948511554391e+21, 5.045816241970307e+21, 9.955259071995465e+21, 1.9645044568737712e+22, 3.877311428040339e+22, 7.653913468339374e+22, 1.5111572745182865e+23, 2.9840574028462364e+23, 5.893513370621318e+23, 1.1641507892585313e+24, 2.299907656827831e+24, 4.5443958520453537e+24, 8.980591802851533e+24, 1.7749875563283023e+25, 3.508696332276877e+25, 6.936732978754284e+25, 1.3715812935264155e+26, 2.7123405355129126e+26, 5.364406836903313e+26, 1.0610914622446112e+27, 2.0991157187882527e+27, 4.1530891640541786e+27, 8.217814728873161e+27, 1.6262622831875316e+28, 3.2186441021419883e+28, 6.370924408363526e+28, 1.2611829951250238e+29, 2.4968875459040885e+29, 4.943837340890097e+29]\n"
     ]
    },
    {
     "data": {
      "text/plain": [
       "[<matplotlib.lines.Line2D at 0x1c58876b3a0>]"
      ]
     },
     "execution_count": 18,
     "metadata": {},
     "output_type": "execute_result"
    },
    {
     "data": {
      "image/png": "[encoded data removed]",
      "text/plain": [
       "<Figure size 432x288 with 1 Axes>"
      ]
     },
     "metadata": {
      "needs_background": "light"
     },
     "output_type": "display_data"
    }
   ],
   "source": [
    "#Assignment 01-4. Dynamic programming-4.3\n",
    "import matplotlib.pyplot as plt\n",
    "#assign the output to a list called Total_sum_averages\n",
    "Total_sum_averages=[]\n",
    "for i in range(1,101):\n",
    "    Total_sum_averages.append(Sum_averages(i))\n",
    "print(Total_sum_averages)\n",
    "#作图\n",
    "x=np.linspace(1,100,100)\n",
    "y=Total_sum_averages\n",
    "plt.xlabel(\"Number of elements N\")\n",
    "plt.ylabel(\"Sum_averages\")\n",
    "plt.title(\"fig.1 The diagram of Sum_averages and N\")\n",
    "plt.plot(x,y)"
   ]
  },
  {
   "cell_type": "code",
   "execution_count": 2,
   "id": "fdbf7daf-34e5-4295-88be-3fe6e6638fdc",
   "metadata": {},
   "outputs": [
    {
     "data": {
      "text/plain": [
       "array([[1., 0., 1., 0.],\n",
       "       [0., 1., 0., 0.],\n",
       "       [1., 1., 1., 1.]])"
      ]
     },
     "execution_count": 2,
     "metadata": {},
     "output_type": "execute_result"
    }
   ],
   "source": [
    "#Assignment 01-5.Path counting-5.1\n",
    "import numpy as np\n",
    "def creat_matrix(N,M):\n",
    "    a1=np.ones((N,M))\n",
    "    for i in range(N):\n",
    "        for j in range(M):\n",
    "            a1[i][j]=np.random.randint(0,2)\n",
    "    #限定左上角、右小角元素为1\n",
    "    a1[0][0]=1\n",
    "    a1[int(N)-1][int(M)-1]=1\n",
    "    return a1\n",
    "creat_matrix(3,4)"
   ]
  },
  {
   "cell_type": "code",
   "execution_count": 3,
   "id": "6f553ed8-d3a7-47c0-8b63-ccad1afd11a6",
   "metadata": {},
   "outputs": [
    {
     "data": {
      "text/plain": [
       "0"
      ]
     },
     "execution_count": 3,
     "metadata": {},
     "output_type": "execute_result"
    }
   ],
   "source": [
    "#Assignment 01-5.Path counting-5.2\n",
    "def Count_path(N,M):\n",
    "    #利用creat_matrix函数得到一个矩阵\n",
    "    a2=creat_matrix(N,M)\n",
    "    #利用判断语句返回-1、0到原先为0、1的位置，即将原矩阵0替换为-1，1替换为0\n",
    "    #题目转化为：0 is good to go，-1 as a blockage or dead-end\n",
    "    a2[a2==0]=-1\n",
    "    a2[a2==1]=0\n",
    "    #print(a2)\n",
    "    #将矩阵第一列可以通过的元素（即可以产生路径的元素，0）赋值为1\n",
    "    for n in range(N):\n",
    "        if a2[n][0]==0:\n",
    "            a2[n][0]=1\n",
    "    #将矩阵第一行可以通过的元素（即可以产生路径的元素，0）赋值为1\n",
    "    for m in range(M):\n",
    "        if a2[0][m]==0:\n",
    "            a2[0][m]=1\n",
    "    #当前元素可以继续前进的话，并且元素左边或（和）上面相邻元素大于0，就加上该元素左边或（和）上面元素。\n",
    "    #赋值后当前元素值表示：从左上角前进到该元素位置可能的路径数\n",
    "    for i in range(1,N):\n",
    "        for j in range(1,M):\n",
    "            if a2[i][j]==-1:\n",
    "                continue\n",
    "            if a2[i-1][j]>0:\n",
    "                a2[i][j]+=a2[i-1][j]\n",
    "            if a2[i][j-1]>0:\n",
    "                a2[i][j]+=a2[i][j-1]\n",
    "    #如果矩阵右下角元素值大于0，返回该元素值，否则返回0\n",
    "    #返回值即代表从左上角到右下角可能的路径数\n",
    "    if a2[N-1][M-1]>0:\n",
    "        return a2[N-1][M-1]\n",
    "    else:\n",
    "        return 0\n",
    "Count_path(10,8)   \n",
    "#解题思路来自https://www.geeksforgeeks.org/count-number-ways-reach-destination-maze/\n",
    "#矩阵内元素转化思路来自赵望超同学"
   ]
  },
  {
   "cell_type": "code",
   "execution_count": 5,
   "id": "d8147256-c248-4a59-9cde-cf64135b455a",
   "metadata": {},
   "outputs": [
    {
     "name": "stdout",
     "output_type": "stream",
     "text": [
      "[2.0, 0, 0, 0, 0, 0, 0, 0, 0, 0, 0, 0, 0, 0, 0, 0, 0, 0, 0, 0, 0, 0, 0, 58.0, 0, 0, 0, 0, 0, 0, 0, 0, 0, 1.0, 36.0, 0, 0, 4.0, 0, 0, 0, 0, 0, 0, 0, 0, 0, 0, 0, 0, 0, 0, 0, 0, 0, 0, 0, 0, 0, 0, 0, 0, 0, 0, 0, 0, 0, 0, 0, 0, 2.0, 0, 0, 0, 0, 0, 0, 0, 0, 0, 0, 0, 0, 0, 0, 0, 0, 0, 0, 0, 0, 0, 24.0, 0, 27.0, 0, 0, 0, 2.0, 0, 9.0, 0, 0, 0, 2.0, 0, 0, 0, 0, 0, 0, 0, 0, 0, 0, 0, 0, 48.0, 0, 0, 0, 0, 0, 0, 0, 0, 0, 0, 0, 0, 0, 0, 0, 0, 0, 0, 0, 0, 0, 8.0, 0, 0, 0, 0, 0, 4.0, 0, 0, 0, 0, 0, 0, 0, 2.0, 12.0, 0, 0, 0, 9.0, 0, 0, 0, 0, 0, 0, 0, 0, 0, 0, 0, 0, 0, 0, 0, 0, 0, 0, 28.0, 0, 0, 0, 0, 0, 0, 0, 0, 0, 0, 0, 2.0, 0, 1.0, 0, 0, 7.0, 0, 0, 0, 0, 0, 0, 0, 18.0, 0, 0, 0, 0, 0, 0, 0, 0, 0, 0, 0, 0, 0, 0, 0, 0, 28.0, 0, 0, 0, 0, 0, 0, 12.0, 0, 0, 0, 0, 0, 4.0, 0, 0, 0, 0, 0, 0, 0, 0, 0, 16.0, 0, 0, 0, 0, 0, 0, 0, 0, 0, 0, 0, 0, 0, 0, 0, 0, 0, 0, 0, 0, 0, 0, 0, 0, 0, 0, 0, 5.0, 0, 0, 0, 0, 0, 0, 0, 0, 0, 0, 0, 0, 0, 0, 0, 0, 0, 36.0, 1.0, 0, 0, 0, 0, 0, 0, 0, 0, 0, 3.0, 0, 0, 0, 0, 0, 4.0, 0, 0, 0, 3.0, 0, 0, 0, 0, 0, 0, 0, 0, 0, 0, 0, 0, 2.0, 0, 0, 0, 0, 0, 0, 0, 0, 0, 0, 0, 0, 0, 0, 0, 0, 0, 0, 0, 0, 0, 3.0, 0, 0, 0, 0, 0, 0, 0, 0, 4.0, 0, 0, 1.0, 0, 0, 0, 0, 0, 0, 0, 0, 0, 0, 1.0, 0, 0, 21.0, 0, 0, 0, 0, 0, 0, 0, 0, 0, 0, 1.0, 1.0, 1.0, 0, 0, 0, 0, 0, 0, 0, 12.0, 0, 0, 0, 0, 72.0, 0, 0, 0, 0, 0, 0, 0, 6.0, 0, 0, 0, 0, 0, 0, 0, 0, 0, 0, 0, 0, 0, 0, 0, 0, 0, 0, 0, 0, 0, 0, 0, 0, 1.0, 0, 0, 0, 0, 3.0, 0, 0, 0, 0, 0, 0, 0, 0, 0, 0, 0, 0, 0, 0, 0, 0, 0, 1.0, 0, 0, 0, 0, 0, 0, 0, 0, 0, 0, 1.0, 0, 0, 0, 0, 0, 0, 0, 0, 0, 0, 0, 0, 0, 0, 0, 0, 1.0, 0, 0, 0, 0, 0, 9.0, 0, 0, 6.0, 0, 0, 0, 0, 0, 0, 0, 0, 24.0, 2.0, 0, 13.0, 0, 0, 0, 96.0, 0, 0, 0, 0, 0, 0, 0, 0, 0, 0, 0, 3.0, 0, 0, 0, 0, 0, 0, 0, 0, 0, 0, 0, 0, 0, 0, 4.0, 0, 0, 0, 0, 7.0, 0, 0, 0, 0, 0, 0, 0, 0, 0, 0, 0, 0, 0, 0, 14.0, 0, 0, 0, 0, 0, 0, 0, 0, 0, 0, 0, 0, 1.0, 0, 0, 0, 0, 0, 0, 0, 0, 14.0, 6.0, 0, 0, 0, 0, 0, 0, 0, 0, 0, 0, 0, 1.0, 0, 0, 6.0, 0, 0, 0, 0, 0, 0, 0, 0, 1.0, 2.0, 0, 0, 0, 0, 0, 0, 0, 0, 8.0, 0, 0, 0, 0, 9.0, 45.0, 0, 0, 2.0, 12.0, 0, 0, 0, 0, 0, 0, 0, 0, 0, 0, 0, 0, 0, 0, 0, 0, 0, 0, 0, 0, 0, 0, 0, 0, 0, 0, 0, 0, 0, 0, 0, 0, 0, 1.0, 0, 0, 0, 0, 0, 7.0, 0, 0, 0, 0, 0, 0, 0, 0, 0, 0, 0, 0, 0, 0, 0, 0, 0, 0, 0, 0, 0, 0, 0, 0, 0, 6.0, 0, 0, 0, 1.0, 0, 0, 0, 0, 0, 0, 0, 0, 0, 0, 0, 0, 0, 4.0, 0, 0, 0, 0, 0, 0, 0, 0, 0, 0, 4.0, 0, 0, 1.0, 0, 0, 0, 0, 0, 0, 0, 0, 0, 0, 0, 0, 0, 0, 0, 0, 0, 0, 0, 0, 0, 13.0, 0, 0, 0, 0, 0, 0, 0, 0, 0, 0, 0, 0, 0, 0, 0, 0, 0, 0, 0, 1.0, 0, 0, 0, 0, 0, 0, 0, 0, 0, 0, 0, 1.0, 0, 0, 9.0, 0, 0, 0, 4.0, 2.0, 0, 0, 0, 0, 0, 0, 0, 0, 0, 0, 0, 0, 0, 0, 0, 0, 0, 0, 0, 0, 0, 0, 0, 0, 0, 0, 0, 0, 0, 0, 0, 0, 0, 0, 0, 0, 0, 0, 0, 0, 0, 0, 0, 12.0, 0, 0, 0, 0, 0, 0, 0, 0, 0, 0, 0, 0, 0, 0, 0, 0, 0, 0, 0, 0, 0, 0, 0, 0, 0, 0, 0, 0, 0, 0, 0, 0, 1.0, 0, 0, 0, 0, 0, 0, 0, 0, 0, 0, 0, 0, 1.0, 0, 0, 0, 0, 0, 0, 0, 0, 0, 0, 0, 9.0, 0, 0, 0, 0, 0, 0, 1.0, 0, 0, 0, 0, 0, 0, 0, 0, 0, 0, 0, 1.0, 9.0, 0, 1.0, 0, 0, 0, 0, 0, 0, 0, 1.0, 0, 0, 0, 0, 0, 0, 0, 0, 0, 0, 0, 0, 0, 0, 2.0, 0, 1.0, 0, 0, 0, 0, 0, 0, 0, 0, 0, 0, 0, 0, 0, 0, 0, 0, 0, 0, 0, 0, 4.0, 0, 0, 0, 0, 0, 0, 0, 0, 0, 0, 0, 0, 0, 0, 24.0, 0, 0, 0, 0, 0, 0, 0, 0, 0, 0, 0, 0, 0, 0, 0, 0, 0, 0, 0, 0, 0, 0, 0, 0, 0, 1.0, 0, 1.0, 0, 0, 11.0, 0, 0, 0, 3.0]\n",
      "Average number of paths:0.972\n"
     ]
    }
   ],
   "source": [
    "#Assignment 01-5.Path counting-5.3\n",
    "ave_path=[]\n",
    "for i in range(1000):\n",
    "    ave_path.append(Count_path(10,8))\n",
    "print(ave_path) \n",
    "print(\"Average number of paths:\"+str(np.mean(ave_path)))"
   ]
  },
  {
   "cell_type": "code",
   "execution_count": null,
   "id": "6ce88c6f-3b48-4efa-8590-68c78325bcf7",
   "metadata": {},
   "outputs": [],
   "source": []
  }
 ],
 "metadata": {
  "kernelspec": {
   "display_name": "Python 3 (ipykernel)",
   "language": "python",
   "name": "python3"
  },
  "language_info": {
   "codemirror_mode": {
    "name": "ipython",
    "version": 3
   },
   "file_extension": ".py",
   "mimetype": "text/x-python",
   "name": "python",
   "nbconvert_exporter": "python",
   "pygments_lexer": "ipython3",
   "version": "3.9.12"
  },
  "toc-showcode": false,
  "toc-showtags": false
 },
 "nbformat": 4,
 "nbformat_minor": 5
}
